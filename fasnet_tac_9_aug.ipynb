{
  "nbformat": 4,
  "nbformat_minor": 0,
  "metadata": {
    "colab": {
      "provenance": [],
      "mount_file_id": "1iLEXTE7mwg81wWxKEUQ1GJFFY7LJhzn8",
      "authorship_tag": "ABX9TyNqN6JD10GXxY+OBAvI1m0c",
      "include_colab_link": true
    },
    "kernelspec": {
      "name": "python3",
      "display_name": "Python 3"
    },
    "language_info": {
      "name": "python"
    }
  },
  "cells": [
    {
      "cell_type": "markdown",
      "metadata": {
        "id": "view-in-github",
        "colab_type": "text"
      },
      "source": [
        "<a href=\"https://colab.research.google.com/github/ashspock/mtp_ref_colab_copies/blob/main/fasnet_tac_9_aug.ipynb\" target=\"_parent\"><img src=\"https://colab.research.google.com/assets/colab-badge.svg\" alt=\"Open In Colab\"/></a>"
      ]
    },
    {
      "cell_type": "code",
      "source": [
        "pwd"
      ],
      "metadata": {
        "colab": {
          "base_uri": "https://localhost:8080/",
          "height": 36
        },
        "id": "x08mrhsx47zc",
        "outputId": "c86d0b47-337f-4800-95ef-b907caf265b7"
      },
      "execution_count": 1,
      "outputs": [
        {
          "output_type": "execute_result",
          "data": {
            "text/plain": [
              "'/content'"
            ],
            "application/vnd.google.colaboratory.intrinsic+json": {
              "type": "string"
            }
          },
          "metadata": {},
          "execution_count": 1
        }
      ]
    },
    {
      "cell_type": "code",
      "source": [
        "cd drive/MyDrive/TAC/data"
      ],
      "metadata": {
        "colab": {
          "base_uri": "https://localhost:8080/"
        },
        "id": "3pZkcdMd4P-q",
        "outputId": "4e6b195e-2a9f-4cfb-b59d-5aa140985898"
      },
      "execution_count": 2,
      "outputs": [
        {
          "output_type": "stream",
          "name": "stdout",
          "text": [
            "/content/drive/MyDrive/TAC/data\n"
          ]
        }
      ]
    },
    {
      "cell_type": "code",
      "source": [
        "!pip install soundfile"
      ],
      "metadata": {
        "colab": {
          "base_uri": "https://localhost:8080/"
        },
        "id": "Mn5e4-q_4Qni",
        "outputId": "7877578b-75c4-456a-d9d9-a28a84ac3c2e"
      },
      "execution_count": null,
      "outputs": [
        {
          "output_type": "stream",
          "name": "stdout",
          "text": [
            "Requirement already satisfied: soundfile in /usr/local/lib/python3.10/dist-packages (0.12.1)\n",
            "Requirement already satisfied: cffi>=1.0 in /usr/local/lib/python3.10/dist-packages (from soundfile) (1.16.0)\n",
            "Requirement already satisfied: pycparser in /usr/local/lib/python3.10/dist-packages (from cffi>=1.0->soundfile) (2.22)\n"
          ]
        }
      ]
    },
    {
      "cell_type": "code",
      "source": [
        "!git clone https://github.com/DavidDiazGuerra/gpuRIR.git"
      ],
      "metadata": {
        "colab": {
          "base_uri": "https://localhost:8080/"
        },
        "id": "ZeAB5dD541Uv",
        "outputId": "a40cf631-4b08-4d1a-c030-dd0312f2d372"
      },
      "execution_count": null,
      "outputs": [
        {
          "output_type": "stream",
          "name": "stdout",
          "text": [
            "Cloning into 'gpuRIR'...\n",
            "remote: Enumerating objects: 906, done.\u001b[K\n",
            "remote: Counting objects: 100% (384/384), done.\u001b[K\n",
            "remote: Compressing objects: 100% (150/150), done.\u001b[K\n",
            "remote: Total 906 (delta 241), reused 319 (delta 220), pack-reused 522\u001b[K\n",
            "Receiving objects: 100% (906/906), 4.05 MiB | 7.47 MiB/s, done.\n",
            "Resolving deltas: 100% (396/396), done.\n",
            "Updating files: 100% (198/198), done.\n"
          ]
        }
      ]
    },
    {
      "cell_type": "code",
      "source": [
        "ls"
      ],
      "metadata": {
        "colab": {
          "base_uri": "https://localhost:8080/"
        },
        "id": "mNoIjyvq5YLi",
        "outputId": "72ba4dbd-ecd1-4f8d-ee0c-8c6fb7d80662"
      },
      "execution_count": 6,
      "outputs": [
        {
          "output_type": "stream",
          "name": "stdout",
          "text": [
            "\u001b[0m\u001b[01;34mconfigs\u001b[0m/               create_dataset.py  \u001b[01;34mLibrispeech\u001b[0m/  noisedata.py  \u001b[01;34moutput\u001b[0m/    \u001b[01;34mred_data\u001b[0m/\n",
            "create_dataset_ORG.py  \u001b[01;34mgpuRIR\u001b[0m/            \u001b[01;34mnew_noise\u001b[0m/    \u001b[01;34mNonspeech\u001b[0m/    README.md\n"
          ]
        }
      ]
    },
    {
      "cell_type": "code",
      "source": [
        "cd gpuRIR"
      ],
      "metadata": {
        "colab": {
          "base_uri": "https://localhost:8080/"
        },
        "id": "0Dv9IidC5gFv",
        "outputId": "07a9ca18-411d-4483-bd5d-529fd385c238"
      },
      "execution_count": 3,
      "outputs": [
        {
          "output_type": "stream",
          "name": "stdout",
          "text": [
            "/content/drive/MyDrive/TAC/data/gpuRIR\n"
          ]
        }
      ]
    },
    {
      "cell_type": "code",
      "source": [
        "cd .."
      ],
      "metadata": {
        "colab": {
          "base_uri": "https://localhost:8080/"
        },
        "id": "kvQj5b9uBfeE",
        "outputId": "5f62ffe6-60c8-4e40-a5ce-53d90cd3d217"
      },
      "execution_count": 6,
      "outputs": [
        {
          "output_type": "stream",
          "name": "stdout",
          "text": [
            "/content/drive/MyDrive/TAC/data\n"
          ]
        }
      ]
    },
    {
      "cell_type": "code",
      "source": [
        "ls"
      ],
      "metadata": {
        "colab": {
          "base_uri": "https://localhost:8080/"
        },
        "id": "CexURxtm5hwy",
        "outputId": "5a3b2e2a-21c1-41e9-a764-6241f9a5363a"
      },
      "execution_count": 4,
      "outputs": [
        {
          "output_type": "stream",
          "name": "stdout",
          "text": [
            "\u001b[0m\u001b[01;34mbuild\u001b[0m/          \u001b[01;34mdist\u001b[0m/      \u001b[01;34mgpuRIR\u001b[0m/           LICENSE      README.md  \u001b[01;34msrc\u001b[0m/\n",
            "CMakeLists.txt  \u001b[01;34mexamples\u001b[0m/  \u001b[01;34mgpuRIR.egg-info\u001b[0m/  MANIFEST.in  setup.py   \u001b[01;34mthird_party\u001b[0m/\n"
          ]
        }
      ]
    },
    {
      "cell_type": "code",
      "source": [
        "!python setup.py install"
      ],
      "metadata": {
        "colab": {
          "base_uri": "https://localhost:8080/"
        },
        "id": "PagZu5xA5iYw",
        "outputId": "3c2985b6-eb76-4a7e-f3a5-fdfc641be499",
        "collapsed": true
      },
      "execution_count": 5,
      "outputs": [
        {
          "output_type": "stream",
          "name": "stdout",
          "text": [
            "running install\n",
            "/usr/local/lib/python3.10/dist-packages/setuptools/_distutils/cmd.py:66: SetuptoolsDeprecationWarning: setup.py install is deprecated.\n",
            "!!\n",
            "\n",
            "        ********************************************************************************\n",
            "        Please avoid running ``setup.py`` directly.\n",
            "        Instead, use pypa/build, pypa/installer or other\n",
            "        standards-based tools.\n",
            "\n",
            "        See https://blog.ganssle.io/articles/2021/10/setup-py-deprecated.html for details.\n",
            "        ********************************************************************************\n",
            "\n",
            "!!\n",
            "  self.initialize_options()\n",
            "/usr/local/lib/python3.10/dist-packages/setuptools/_distutils/cmd.py:66: EasyInstallDeprecationWarning: easy_install command is deprecated.\n",
            "!!\n",
            "\n",
            "        ********************************************************************************\n",
            "        Please avoid running ``setup.py`` and ``easy_install``.\n",
            "        Instead, use pypa/build, pypa/installer or other\n",
            "        standards-based tools.\n",
            "\n",
            "        See https://github.com/pypa/setuptools/issues/917 for details.\n",
            "        ********************************************************************************\n",
            "\n",
            "!!\n",
            "  self.initialize_options()\n",
            "running bdist_egg\n",
            "running egg_info\n",
            "writing gpuRIR.egg-info/PKG-INFO\n",
            "writing dependency_links to gpuRIR.egg-info/dependency_links.txt\n",
            "writing top-level names to gpuRIR.egg-info/top_level.txt\n",
            "reading manifest file 'gpuRIR.egg-info/SOURCES.txt'\n",
            "reading manifest template 'MANIFEST.in'\n",
            "adding license file 'LICENSE'\n",
            "writing manifest file 'gpuRIR.egg-info/SOURCES.txt'\n",
            "installing library code to build/bdist.linux-x86_64/egg\n",
            "running install_lib\n",
            "running build_py\n",
            "running build_ext\n",
            "\u001b[33mCMake Warning (dev) at CMakeLists.txt:6 (find_package):\n",
            "  Policy CMP0146 is not set: The FindCUDA module is removed.  Run \"cmake\n",
            "  --help-policy CMP0146\" for policy details.  Use the cmake_policy command to\n",
            "  set the policy and suppress this warning.\n",
            "\n",
            "This warning is for project developers.  Use -Wno-dev to suppress it.\n",
            "\u001b[0m\n",
            "\u001b[33mCMake Warning (dev) at CMakeLists.txt:9 (include):\n",
            "  Policy CMP0146 is not set: The FindCUDA module is removed.  Run \"cmake\n",
            "  --help-policy CMP0146\" for policy details.  Use the cmake_policy command to\n",
            "  set the policy and suppress this warning.\n",
            "\n",
            "This warning is for project developers.  Use -Wno-dev to suppress it.\n",
            "\u001b[0m\n",
            "\u001b[0mCMake Deprecation Warning at third_party/pybind11/CMakeLists.txt:8 (cmake_minimum_required):\n",
            "  Compatibility with CMake < 3.5 will be removed from a future version of\n",
            "  CMake.\n",
            "\n",
            "  Update the VERSION argument <min> value or use a ...<max> suffix to tell\n",
            "  CMake that the project does not need compatibility with older versions.\n",
            "\n",
            "\u001b[0m\n",
            "\u001b[0mCMake Deprecation Warning at third_party/pybind11/tools/pybind11Tools.cmake:8 (cmake_minimum_required):\n",
            "  Compatibility with CMake < 3.5 will be removed from a future version of\n",
            "  CMake.\n",
            "\n",
            "  Update the VERSION argument <min> value or use a ...<max> suffix to tell\n",
            "  CMake that the project does not need compatibility with older versions.\n",
            "Call Stack (most recent call first):\n",
            "  third_party/pybind11/CMakeLists.txt:33 (include)\n",
            "\n",
            "\u001b[0m\n",
            "\u001b[33mCMake Warning (dev) at third_party/pybind11/tools/FindPythonLibsNew.cmake:60 (find_package):\n",
            "  Policy CMP0148 is not set: The FindPythonInterp and FindPythonLibs modules\n",
            "  are removed.  Run \"cmake --help-policy CMP0148\" for policy details.  Use\n",
            "  the cmake_policy command to set the policy and suppress this warning.\n",
            "\n",
            "Call Stack (most recent call first):\n",
            "  third_party/pybind11/tools/pybind11Tools.cmake:16 (find_package)\n",
            "  third_party/pybind11/CMakeLists.txt:33 (include)\n",
            "This warning is for project developers.  Use -Wno-dev to suppress it.\n",
            "\u001b[0m\n",
            "-- pybind11 v2.2.0\n",
            "-- Configuring done (4.6s)\n",
            "\u001b[33mCMake Warning (dev) in CMakeLists.txt:\n",
            "  Policy CMP0104 is not set: CMAKE_CUDA_ARCHITECTURES now detected for NVCC,\n",
            "  empty CUDA_ARCHITECTURES not allowed.  Run \"cmake --help-policy CMP0104\"\n",
            "  for policy details.  Use the cmake_policy command to set the policy and\n",
            "  suppress this warning.\n",
            "\n",
            "  CUDA_ARCHITECTURES is empty for target \"gpuRIRcu\".\n",
            "This warning is for project developers.  Use -Wno-dev to suppress it.\n",
            "\u001b[0m\n",
            "\u001b[33mCMake Warning (dev) in CMakeLists.txt:\n",
            "  Policy CMP0104 is not set: CMAKE_CUDA_ARCHITECTURES now detected for NVCC,\n",
            "  empty CUDA_ARCHITECTURES not allowed.  Run \"cmake --help-policy CMP0104\"\n",
            "  for policy details.  Use the cmake_policy command to set the policy and\n",
            "  suppress this warning.\n",
            "\n",
            "  CUDA_ARCHITECTURES is empty for target \"gpuRIRcu\".\n",
            "This warning is for project developers.  Use -Wno-dev to suppress it.\n",
            "\u001b[0m\n",
            "-- Generating done (5.8s)\n",
            "-- Build files have been written to: /content/drive/MyDrive/TAC/data/gpuRIR/build/temp.linux-x86_64-cpython-310\n",
            "[  0%] Built target gpuRIRcu\n",
            "[ 50%] Built target gpuRIR_bind\n",
            "creating build/bdist.linux-x86_64/egg\n",
            "creating build/bdist.linux-x86_64/egg/gpuRIR\n",
            "copying build/lib.linux-x86_64-cpython-310/gpuRIR/__init__.py -> build/bdist.linux-x86_64/egg/gpuRIR\n",
            "copying build/lib.linux-x86_64-cpython-310/gpuRIR_bind.cpython-310-x86_64-linux-gnu.so -> build/bdist.linux-x86_64/egg\n",
            "byte-compiling build/bdist.linux-x86_64/egg/gpuRIR/__init__.py to __init__.cpython-310.pyc\n",
            "creating stub loader for gpuRIR_bind.cpython-310-x86_64-linux-gnu.so\n",
            "byte-compiling build/bdist.linux-x86_64/egg/gpuRIR_bind.py to gpuRIR_bind.cpython-310.pyc\n",
            "creating build/bdist.linux-x86_64/egg/EGG-INFO\n",
            "copying gpuRIR.egg-info/PKG-INFO -> build/bdist.linux-x86_64/egg/EGG-INFO\n",
            "copying gpuRIR.egg-info/SOURCES.txt -> build/bdist.linux-x86_64/egg/EGG-INFO\n",
            "copying gpuRIR.egg-info/dependency_links.txt -> build/bdist.linux-x86_64/egg/EGG-INFO\n",
            "copying gpuRIR.egg-info/not-zip-safe -> build/bdist.linux-x86_64/egg/EGG-INFO\n",
            "copying gpuRIR.egg-info/top_level.txt -> build/bdist.linux-x86_64/egg/EGG-INFO\n",
            "writing build/bdist.linux-x86_64/egg/EGG-INFO/native_libs.txt\n",
            "creating 'dist/gpuRIR-1.2.0-py3.10-linux-x86_64.egg' and adding 'build/bdist.linux-x86_64/egg' to it\n",
            "removing 'build/bdist.linux-x86_64/egg' (and everything under it)\n",
            "Processing gpuRIR-1.2.0-py3.10-linux-x86_64.egg\n",
            "creating /usr/local/lib/python3.10/dist-packages/gpuRIR-1.2.0-py3.10-linux-x86_64.egg\n",
            "Extracting gpuRIR-1.2.0-py3.10-linux-x86_64.egg to /usr/local/lib/python3.10/dist-packages\n",
            "Adding gpuRIR 1.2.0 to easy-install.pth file\n",
            "\n",
            "Installed /usr/local/lib/python3.10/dist-packages/gpuRIR-1.2.0-py3.10-linux-x86_64.egg\n",
            "Processing dependencies for gpuRIR==1.2.0\n",
            "Finished processing dependencies for gpuRIR==1.2.0\n"
          ]
        }
      ]
    },
    {
      "cell_type": "code",
      "source": [
        "!git pull"
      ],
      "metadata": {
        "colab": {
          "base_uri": "https://localhost:8080/"
        },
        "id": "mGjC_bBdFXnO",
        "outputId": "259c30ae-910e-47ae-cf7e-80b661ec69c5"
      },
      "execution_count": 47,
      "outputs": [
        {
          "output_type": "stream",
          "name": "stdout",
          "text": [
            "Already up to date.\n"
          ]
        }
      ]
    },
    {
      "cell_type": "code",
      "source": [
        "ls"
      ],
      "metadata": {
        "colab": {
          "base_uri": "https://localhost:8080/"
        },
        "id": "Cz5rm11d5ybC",
        "outputId": "c9d19e80-30f9-4d97-e99a-133723352807"
      },
      "execution_count": 44,
      "outputs": [
        {
          "output_type": "stream",
          "name": "stdout",
          "text": [
            "\u001b[0m\u001b[01;34mconfigs\u001b[0m/               create_dataset.py  \u001b[01;34mLibrispeech\u001b[0m/  noisedata.py  \u001b[01;34moutput\u001b[0m/    \u001b[01;34mred_data\u001b[0m/\n",
            "create_dataset_ORG.py  \u001b[01;34mgpuRIR\u001b[0m/            \u001b[01;34mnew_noise\u001b[0m/    \u001b[01;34mNonspeech\u001b[0m/    README.md\n"
          ]
        }
      ]
    },
    {
      "cell_type": "code",
      "source": [
        "cd data"
      ],
      "metadata": {
        "colab": {
          "base_uri": "https://localhost:8080/"
        },
        "id": "bRLf2b_hFloz",
        "outputId": "1275c957-96e5-4b39-b43a-7f642ce41da3"
      },
      "execution_count": 7,
      "outputs": [
        {
          "output_type": "stream",
          "name": "stdout",
          "text": [
            "/content/drive/MyDrive/TAC/data\n"
          ]
        }
      ]
    },
    {
      "cell_type": "code",
      "source": [
        "#!python create_dataset.py --output-path='/content/drive/MyDrive/TAC/data/output' --avoid-clipping=0 --dataset='fixed' --libri-path='/content/drive/MyDrive/TAC/data/Librispeech' --noise-path='/content/drive/MyDrive/TAC/data/new_noise'\n",
        "!python create_dataset.py --output-path='/content/drive/MyDrive/TAC/data/output' --avoid-clipping=0 --dataset='adhoc' --libri-path='/content/drive/MyDrive/TAC/data/red_data/speech' --noise-path='/content/drive/MyDrive/TAC/data/new_noise'"
      ],
      "metadata": {
        "colab": {
          "base_uri": "https://localhost:8080/"
        },
        "id": "4wIS4cTA5zOb",
        "outputId": "dab718b8-cb12-4872-f885-390b9c1da4ee",
        "collapsed": true
      },
      "execution_count": 3,
      "outputs": [
        {
          "output_type": "stream",
          "name": "stdout",
          "text": [
            "Traceback (most recent call last):\n",
            "  File \"/content/drive/MyDrive/TAC/data/create_dataset.py\", line 9, in <module>\n",
            "    from gpuRIR_bind import gpuRIR_bind\n",
            "ModuleNotFoundError: No module named 'gpuRIR_bind'\n"
          ]
        }
      ]
    },
    {
      "cell_type": "code",
      "source": [
        "!pip install pydub"
      ],
      "metadata": {
        "colab": {
          "base_uri": "https://localhost:8080/"
        },
        "id": "EybWmRJe8Zi6",
        "outputId": "8ebcb4ef-9e07-4042-da1d-321892b5dfef"
      },
      "execution_count": null,
      "outputs": [
        {
          "output_type": "stream",
          "name": "stdout",
          "text": [
            "Collecting pydub\n",
            "  Downloading pydub-0.25.1-py2.py3-none-any.whl.metadata (1.4 kB)\n",
            "Downloading pydub-0.25.1-py2.py3-none-any.whl (32 kB)\n",
            "Installing collected packages: pydub\n",
            "Successfully installed pydub-0.25.1\n"
          ]
        }
      ]
    },
    {
      "cell_type": "code",
      "source": [
        "pwd"
      ],
      "metadata": {
        "colab": {
          "base_uri": "https://localhost:8080/",
          "height": 36
        },
        "id": "QUJvKjuG863M",
        "outputId": "da0b14bd-542a-47f9-ce2f-027410a58a5f"
      },
      "execution_count": null,
      "outputs": [
        {
          "output_type": "execute_result",
          "data": {
            "text/plain": [
              "'/content/drive/MyDrive/TAC/data'"
            ],
            "application/vnd.google.colaboratory.intrinsic+json": {
              "type": "string"
            }
          },
          "metadata": {},
          "execution_count": 20
        }
      ]
    },
    {
      "cell_type": "code",
      "source": [
        "import soundfile as sf\n",
        "\n",
        "file_path = '/content/drive/MyDrive/TAC/data/clean_data/train-clean-100/19/227/19-227-0002.flac'\n",
        "try:\n",
        "    data, samplerate = sf.read(file_path)\n",
        "    print(data, samplerate)\n",
        "except RuntimeError as e:\n",
        "    print(f\"RuntimeError: {e}\")\n",
        "except sf.LibsndfileError as e:\n",
        "    print(f\"LibsndfileError: {e}\")"
      ],
      "metadata": {
        "colab": {
          "base_uri": "https://localhost:8080/"
        },
        "id": "6VdYSKBw53tU",
        "outputId": "327efcbf-356c-43c8-a3d4-53db78442f60"
      },
      "execution_count": null,
      "outputs": [
        {
          "output_type": "stream",
          "name": "stdout",
          "text": [
            "[-0.00112915 -0.00146484 -0.00106812 ... -0.00408936 -0.00219727\n",
            " -0.00183105] 16000\n"
          ]
        }
      ]
    },
    {
      "cell_type": "code",
      "source": [
        "cd .."
      ],
      "metadata": {
        "id": "leWdOqcO8Duj",
        "colab": {
          "base_uri": "https://localhost:8080/"
        },
        "outputId": "fb44576e-33dd-484d-967f-68c2b7a549d7"
      },
      "execution_count": 5,
      "outputs": [
        {
          "output_type": "stream",
          "name": "stdout",
          "text": [
            "/content/drive/MyDrive/TAC\n"
          ]
        }
      ]
    },
    {
      "cell_type": "code",
      "source": [
        "x = !python FaSNet.py"
      ],
      "metadata": {
        "id": "XaTlQ3bsZFTU"
      },
      "execution_count": 6,
      "outputs": []
    },
    {
      "cell_type": "code",
      "source": [
        "y = !python iFaSNet.py"
      ],
      "metadata": {
        "id": "hP9a2w26ZJTP"
      },
      "execution_count": 7,
      "outputs": []
    },
    {
      "cell_type": "code",
      "source": [
        "type(x)"
      ],
      "metadata": {
        "colab": {
          "base_uri": "https://localhost:8080/"
        },
        "id": "ko6g-NChgKQ9",
        "outputId": "c5e22576-bd37-42db-a3f6-7c6b78dfbc15"
      },
      "execution_count": 8,
      "outputs": [
        {
          "output_type": "execute_result",
          "data": {
            "text/plain": [
              "IPython.utils.text.SList"
            ]
          },
          "metadata": {},
          "execution_count": 8
        }
      ]
    },
    {
      "cell_type": "code",
      "source": [
        "x.fields()"
      ],
      "metadata": {
        "colab": {
          "base_uri": "https://localhost:8080/"
        },
        "id": "A7-t-vjvgZgo",
        "outputId": "7f80aecf-9fdc-440f-9d2c-9dc5181e3559"
      },
      "execution_count": 11,
      "outputs": [
        {
          "output_type": "execute_result",
          "data": {
            "text/plain": [
              "[['torch.Size([2,', '2,', '32000])', 'torch.Size([2,', '2,', '32000])'],\n",
              " ['torch.Size([2,', '2,', '32000])', 'torch.Size([2,', '2,', '32000])']]"
            ]
          },
          "metadata": {},
          "execution_count": 11
        }
      ]
    },
    {
      "cell_type": "code",
      "source": [
        "type(y)"
      ],
      "metadata": {
        "colab": {
          "base_uri": "https://localhost:8080/"
        },
        "id": "Zpa0ahjL0vs3",
        "outputId": "1e355566-d826-4f56-da15-6c723e0d82dd"
      },
      "execution_count": 9,
      "outputs": [
        {
          "output_type": "execute_result",
          "data": {
            "text/plain": [
              "IPython.utils.text.SList"
            ]
          },
          "metadata": {},
          "execution_count": 9
        }
      ]
    },
    {
      "cell_type": "code",
      "source": [
        "y.fields()"
      ],
      "metadata": {
        "colab": {
          "base_uri": "https://localhost:8080/"
        },
        "id": "JuYsErQh1UM4",
        "outputId": "b593529c-5062-4eb7-c3ab-c37f3db63125"
      },
      "execution_count": 10,
      "outputs": [
        {
          "output_type": "execute_result",
          "data": {
            "text/plain": [
              "[['torch.Size([2,', '2,', '32000])', 'torch.Size([2,', '2,', '32000])']]"
            ]
          },
          "metadata": {},
          "execution_count": 10
        }
      ]
    },
    {
      "cell_type": "code",
      "source": [
        "np.info(x)"
      ],
      "metadata": {
        "id": "gll5jt3x1UAJ",
        "colab": {
          "base_uri": "https://localhost:8080/"
        },
        "outputId": "6e81342f-daa7-492a-8ec7-1f309cb5744f"
      },
      "execution_count": 17,
      "outputs": [
        {
          "output_type": "stream",
          "name": "stdout",
          "text": [
            "List derivative with a special access attributes.\n",
            "\n",
            "These are normal lists, but with the special attributes:\n",
            "\n",
            "* .l (or .list) : value as list (the list itself).\n",
            "* .n (or .nlstr): value as a string, joined on newlines.\n",
            "* .s (or .spstr): value as a string, joined on spaces.\n",
            "* .p (or .paths): list of path objects (requires path.py package)\n",
            "\n",
            "Any values which require transformations are computed only once and\n",
            "cached.\n"
          ]
        }
      ]
    },
    {
      "cell_type": "code",
      "source": [
        "import numpy as np\n",
        "print(type(y))  # Should be a list or array\n",
        "print(type(y[0]))  # Check the type of the first element\n",
        "print(y[:2])  # Print a sample to inspect values\n"
      ],
      "metadata": {
        "colab": {
          "base_uri": "https://localhost:8080/"
        },
        "id": "e8VvR5TSkno1",
        "outputId": "308a65b6-30bf-49fa-b9f5-946f11f8ab86"
      },
      "execution_count": 25,
      "outputs": [
        {
          "output_type": "stream",
          "name": "stdout",
          "text": [
            "<class 'IPython.utils.text.SList'>\n",
            "<class 'str'>\n",
            "['torch.Size([2, 2, 32000]) torch.Size([2, 2, 32000])']\n"
          ]
        }
      ]
    },
    {
      "cell_type": "code",
      "source": [
        "x = np.array(x)"
      ],
      "metadata": {
        "id": "GQou8C9Mk9eV"
      },
      "execution_count": 26,
      "outputs": []
    },
    {
      "cell_type": "code",
      "source": [
        "print(type(x))  # Should be a list or array\n",
        "print(type(x[0]))  # Check the type of the first element\n",
        "print(x[:2])  # Print a sample to inspect values"
      ],
      "metadata": {
        "colab": {
          "base_uri": "https://localhost:8080/"
        },
        "id": "XvqF2cntlFil",
        "outputId": "89984b3d-e6cb-4bfc-a875-5934b6042b61"
      },
      "execution_count": 27,
      "outputs": [
        {
          "output_type": "stream",
          "name": "stdout",
          "text": [
            "<class 'numpy.ndarray'>\n",
            "<class 'numpy.str_'>\n",
            "['torch.Size([2, 2, 32000]) torch.Size([2, 2, 32000])'\n",
            " 'torch.Size([2, 2, 32000]) torch.Size([2, 2, 32000])']\n"
          ]
        }
      ]
    },
    {
      "cell_type": "code",
      "source": [
        "y1 = np.array(y)\n",
        "print(type(y1))  # Should be a list or array\n",
        "print(type(y1[0]))  # Check the type of the first element\n",
        "print(y1[:2])  # Print a sample to inspect values"
      ],
      "metadata": {
        "colab": {
          "base_uri": "https://localhost:8080/"
        },
        "id": "fJh9ERtilJXS",
        "outputId": "04636a6f-62ff-4bfb-857f-863a967a573d"
      },
      "execution_count": 28,
      "outputs": [
        {
          "output_type": "stream",
          "name": "stdout",
          "text": [
            "<class 'numpy.ndarray'>\n",
            "<class 'numpy.str_'>\n",
            "['torch.Size([2, 2, 32000]) torch.Size([2, 2, 32000])']\n"
          ]
        }
      ]
    },
    {
      "cell_type": "code",
      "source": [
        "# Convert list of strings to list of floats\n",
        "def convert_to_float_array(array):\n",
        "    return np.array(array, dtype=np.float32)\n",
        "\n",
        "# Convert numpy array of strings to float array\n",
        "numerical_array = convert_to_float_array(y)\n",
        "\n",
        "# Convert to PyTorch tensor\n",
        "audio_tensor = torch.tensor(numerical_array, dtype=torch.float32)"
      ],
      "metadata": {
        "colab": {
          "base_uri": "https://localhost:8080/",
          "height": 347
        },
        "id": "yDcPrwXxlTMY",
        "outputId": "b7542c72-88d4-4c93-b78f-23c16060438e"
      },
      "execution_count": 30,
      "outputs": [
        {
          "output_type": "error",
          "ename": "ValueError",
          "evalue": "could not convert string to float: 'torch.Size([2, 2, 32000]) torch.Size([2, 2, 32000])'",
          "traceback": [
            "\u001b[0;31m---------------------------------------------------------------------------\u001b[0m",
            "\u001b[0;31mValueError\u001b[0m                                Traceback (most recent call last)",
            "\u001b[0;32m<ipython-input-30-a5e8b2be55c3>\u001b[0m in \u001b[0;36m<cell line: 6>\u001b[0;34m()\u001b[0m\n\u001b[1;32m      4\u001b[0m \u001b[0;34m\u001b[0m\u001b[0m\n\u001b[1;32m      5\u001b[0m \u001b[0;31m# Convert numpy array of strings to float array\u001b[0m\u001b[0;34m\u001b[0m\u001b[0;34m\u001b[0m\u001b[0m\n\u001b[0;32m----> 6\u001b[0;31m \u001b[0mnumerical_array\u001b[0m \u001b[0;34m=\u001b[0m \u001b[0mconvert_to_float_array\u001b[0m\u001b[0;34m(\u001b[0m\u001b[0my\u001b[0m\u001b[0;34m)\u001b[0m\u001b[0;34m\u001b[0m\u001b[0;34m\u001b[0m\u001b[0m\n\u001b[0m\u001b[1;32m      7\u001b[0m \u001b[0;34m\u001b[0m\u001b[0m\n\u001b[1;32m      8\u001b[0m \u001b[0;31m# Convert to PyTorch tensor\u001b[0m\u001b[0;34m\u001b[0m\u001b[0;34m\u001b[0m\u001b[0m\n",
            "\u001b[0;32m<ipython-input-30-a5e8b2be55c3>\u001b[0m in \u001b[0;36mconvert_to_float_array\u001b[0;34m(array)\u001b[0m\n\u001b[1;32m      1\u001b[0m \u001b[0;31m# Convert list of strings to list of floats\u001b[0m\u001b[0;34m\u001b[0m\u001b[0;34m\u001b[0m\u001b[0m\n\u001b[1;32m      2\u001b[0m \u001b[0;32mdef\u001b[0m \u001b[0mconvert_to_float_array\u001b[0m\u001b[0;34m(\u001b[0m\u001b[0marray\u001b[0m\u001b[0;34m)\u001b[0m\u001b[0;34m:\u001b[0m\u001b[0;34m\u001b[0m\u001b[0;34m\u001b[0m\u001b[0m\n\u001b[0;32m----> 3\u001b[0;31m     \u001b[0;32mreturn\u001b[0m \u001b[0mnp\u001b[0m\u001b[0;34m.\u001b[0m\u001b[0marray\u001b[0m\u001b[0;34m(\u001b[0m\u001b[0marray\u001b[0m\u001b[0;34m,\u001b[0m \u001b[0mdtype\u001b[0m\u001b[0;34m=\u001b[0m\u001b[0mnp\u001b[0m\u001b[0;34m.\u001b[0m\u001b[0mfloat32\u001b[0m\u001b[0;34m)\u001b[0m\u001b[0;34m\u001b[0m\u001b[0;34m\u001b[0m\u001b[0m\n\u001b[0m\u001b[1;32m      4\u001b[0m \u001b[0;34m\u001b[0m\u001b[0m\n\u001b[1;32m      5\u001b[0m \u001b[0;31m# Convert numpy array of strings to float array\u001b[0m\u001b[0;34m\u001b[0m\u001b[0;34m\u001b[0m\u001b[0m\n",
            "\u001b[0;31mValueError\u001b[0m: could not convert string to float: 'torch.Size([2, 2, 32000]) torch.Size([2, 2, 32000])'"
          ]
        }
      ]
    },
    {
      "cell_type": "code",
      "source": [],
      "metadata": {
        "id": "KQbghDvXUebZ"
      },
      "execution_count": null,
      "outputs": []
    }
  ]
}